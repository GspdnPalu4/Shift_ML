{
 "cells": [
  {
   "cell_type": "code",
   "execution_count": 1,
   "id": "d1dbb980",
   "metadata": {},
   "outputs": [],
   "source": [
    "import pandas as pd\n",
    "import numpy as np\n",
    "import matplotlib.pyplot as plt\n",
    "import seaborn as sns"
   ]
  },
  {
   "cell_type": "code",
   "execution_count": null,
   "id": "11bd5f82",
   "metadata": {},
   "outputs": [],
   "source": [
    "df = pd.read_csv('shift_ml_2025_train.csv')\n",
    "target = df['итоговый_статус_займа']"
   ]
  },
  {
   "cell_type": "code",
   "execution_count": null,
   "id": "f6322f4c",
   "metadata": {},
   "outputs": [],
   "source": [
    "df['годовой_доход'].describe()"
   ]
  },
  {
   "cell_type": "code",
   "execution_count": null,
   "id": "c6f6094c",
   "metadata": {},
   "outputs": [],
   "source": [
    "df['годовой_доход'] = df['годовой_доход'].fillna(df['годовой_доход'].median())\n",
    "#Но их нету"
   ]
  },
  {
   "cell_type": "code",
   "execution_count": null,
   "id": "505c65e8",
   "metadata": {},
   "outputs": [],
   "source": [
    "#3. Как выбрать строки, где итоговый_статус_займа = 1?\n",
    "df[df['итоговый_статус_займа'] == 1]\n",
    "df.query(\"итоговый_статус_займа == 1\")\n",
    "df.loc[df['итоговый_статус_займа'] == 1]"
   ]
  },
  {
   "cell_type": "code",
   "execution_count": null,
   "id": "b7ff0364",
   "metadata": {},
   "outputs": [],
   "source": [
    "#4. Как посчитать корреляцию между сумма_займа и годовой_доход?\n",
    "df['сумма_займа'].corr(df['годовой_доход'])\n",
    "df[['сумма_займа', 'годовой_доход']].corr()"
   ]
  },
  {
   "cell_type": "code",
   "execution_count": null,
   "id": "2ee06122",
   "metadata": {},
   "outputs": [],
   "source": [
    "#5. Напишите код, чтобы вывести средний итоговый_статус_займа в зависимости от рейтинга:\n",
    "result=df.groupby('рейтинг')['итоговый_статус_займа'].mean()\n",
    "result"
   ]
  },
  {
   "cell_type": "code",
   "execution_count": null,
   "id": "c5fc8f47",
   "metadata": {},
   "outputs": [],
   "source": [
    "#Как рассчитать 3-месячное скользящее среднее признака сумма_дефолта с группировкой по регионам?\n",
    "#Не по нашим данным, но 2ой вариант должен работать\n",
    "#df.set_index('дата_выдачи_займа').groupby('регион')['сумма_дефолта'].rolling('90D').mean()"
   ]
  },
  {
   "cell_type": "code",
   "execution_count": null,
   "id": "802860f7",
   "metadata": {},
   "outputs": [],
   "source": [
    "df.head()"
   ]
  },
  {
   "cell_type": "code",
   "execution_count": null,
   "id": "fde8af8a",
   "metadata": {},
   "outputs": [],
   "source": [
    "#7. Чему равна средняя сумма займа инженеров с рейтингом - Б?\n",
    "result = (\n",
    "    df.groupby(['рейтинг', 'профессия_заемщика'])['сумма_займа']\n",
    "    .mean()\n",
    "    .reset_index()  # Преобразуем MultiIndex в столбцы\n",
    "    .query(\"профессия_заемщика == 'инженер'\")  # Фильтруем только инженеров\n",
    ")\n",
    "result"
   ]
  },
  {
   "cell_type": "code",
   "execution_count": 5,
   "id": "74e9b728",
   "metadata": {},
   "outputs": [
    {
     "data": {
      "text/plain": [
       "id                                                                        0\n",
       "коэфф_невыплаченного_сумм_остатка                                         0\n",
       "коэфф_исходного_платежа                                                   0\n",
       "дата_первого_займа                                                        0\n",
       "нижний_порог_рейтинга_заемщика                                            0\n",
       "верхний_порог_рейтинга_заемщика                                           0\n",
       "кол-во_открытых_счетов                                                    0\n",
       "кол-во_записей_в_общедоступных_документах                                 0\n",
       "оборотный_баланс                                                          0\n",
       "кол-во_счетов                                                             0\n",
       "первоначальный_статус_займа                                               0\n",
       "непогашенная_сумма_из_тела_займов                                         0\n",
       "сумма_выплат_по_просрочкам                                                0\n",
       "грейд_на_детерминаторе                                                    0\n",
       "код_политики                                                              0\n",
       "тип_займа                                                                 0\n",
       "кол-во_текущих_просроченных_счетов                                        0\n",
       "возвраты_с_учетом_мпл                                                     0\n",
       "особая_ситуация                                                           0\n",
       "сумма_задолженности                                                       0\n",
       "кол-во_просрочек_за_два_года                                              0\n",
       "юридический_статус                                                        0\n",
       "тип_предоставления_кредита                                                0\n",
       "рейтинг                                                                   0\n",
       "аннуитет                                                                  0\n",
       "процентная_ставка                                                         0\n",
       "срок_займа                                                                0\n",
       "владение_жильем                                                           0\n",
       "годовой_доход                                                             0\n",
       "подтвержден_ли_доход                                                      0\n",
       "пос_стоп_фактор                                                           0\n",
       "итоговый_статус_займа                                                     0\n",
       "рейтинг_OCR                                                               0\n",
       "сумма_займа                                                               0\n",
       "коэфф_акционных_зачислений_в_остатке                                      0\n",
       "цель_займа                                                                0\n",
       "кол_во_субсидий_за_год                                                    0\n",
       "регион                                                                    0\n",
       "платежный_график                                                          0\n",
       "допрейтинг                                                                0\n",
       "кол-во_заявок_за_полгода                                                  1\n",
       "индекс_проживания                                                         1\n",
       "кол-во_залогов                                                           34\n",
       "кол-во_взысканий_за_последний_год                                        47\n",
       "кол-во_списаний_за_год                                                   47\n",
       "пдн                                                                     338\n",
       "кол-во_публ_банкротств                                                  618\n",
       "коэфф_загрузки_возобновляемого_счета                                    769\n",
       "кол-во_открытых_счетов_за_2_года                                      42482\n",
       "лимит_по_картам                                                       42482\n",
       "кол-во_ипотек                                                         42482\n",
       "кредитный_баланс_без_ипотеки                                          42482\n",
       "кол-во_карт_без_нарушений                                             50207\n",
       "кол-во_счетов_без_нарушений                                           50207\n",
       "кол-во_месяцев_с_последней_карты                                      54130\n",
       "суммарная_доступная_сумма_займа_по_картам                             54971\n",
       "процент_счетов_прев_75_лимита                                         55331\n",
       "соотношение_баланса_к_лимиту_по_картам                                55663\n",
       "лимит_по_аннуитетным_счетам                                           60767\n",
       "кол-во_счетов_за_посл_год                                             60767\n",
       "кол-во_счетов_с_акт_просрочкой_3_мес_за_2_года                        60767\n",
       "кол-во_месяцев_с_последнего_счета                                     60767\n",
       "кол-во_счетов_с_акт_просрочкой_1_мес                                  60767\n",
       "кол-во_возобновляемых_счетов_с_балансом_более_0                       60767\n",
       "кол-во_активных_карт                                                  60767\n",
       "кол-во_активных_возобновляемых_счетов                                 60767\n",
       "кол-во_карт                                                           60767\n",
       "кол-во_аннуитетных_счетов                                             60767\n",
       "кол-во_открытых_возобновляемых_счетов                                 60767\n",
       "кредитный_лимит                                                       60767\n",
       "кол-во_счетов_с_просрочкой_4_мес                                      60767\n",
       "общий_лимит_по_возоб_счету                                            60767\n",
       "общая_сумма_взысканий                                                 60767\n",
       "общая_сумма_на_счетах                                                 60767\n",
       "кол-во_возобновляемых_счетов                                          60768\n",
       "кол-во_месяцев_с_первого_возобновляемого_счета                        60768\n",
       "кол-во_месяцев_с_последнего_возобновляемого_счета                     60768\n",
       "средний_баланс_текущих_счетов                                         60788\n",
       "процент_счетов_без_просрочек                                          60902\n",
       "стаж                                                                  70508\n",
       "профессия_заемщика                                                    77049\n",
       "кол-во_месяцев_с_первого_аннуитетного_счета                           95020\n",
       "кол-во_счетов_с_акт_просрочкой_4_мес_обн_2_мес                       105517\n",
       "кол-во_мес_с_последней_заявки                                        156537\n",
       "пени_за_дефолт                                                       363441\n",
       "кол-во_месяцев_с_последней_просрочки                                 610561\n",
       "кол-во_возоб_счетов_за_год                                           726901\n",
       "кол-во_возоб_счетов_за_2_года                                        726901\n",
       "текущий_баланс_по_аннуитетным_счетам                                 726901\n",
       "макс_баланс_по_возоб_счетам                                          726901\n",
       "кол-во_аннуитетных_счетов_за_2_года                                  726901\n",
       "кол-во_аннуитетных_счетов_за_год                                     726901\n",
       "кол-во_финансовых_запросов                                           726901\n",
       "кол-во_текущих_аннуитетных_счетов                                    726901\n",
       "кол-во_заявок_на_кредит_за_год                                       726902\n",
       "кол-во_финансовых_операций                                           726902\n",
       "кол-во_открытых_счетов_за_полгода                                    726902\n",
       "соотношение_баланса_к_лимиту_общее                                   726952\n",
       "кол-во_месяцев_с_посл_аннуитетного_счета                             739709\n",
       "соотношение_сумм_текущего_баланса_к_лимиту_по_аннуитетным_счетам     792391\n",
       "кол-во_мес_с_последней_задолженности_по_возобновляемому_счету        805599\n",
       "кол-во_месяцев_с_последнего_нарушения                                892120\n",
       "кол-во_мес_с_последней_задолженности_по_карте                        923517\n",
       "кол-во_месяцев_с_последнего_займа                                   1005117\n",
       "совокупный_доход_заемщиков                                          1187546\n",
       "совокупный_пдн_заемщиков                                            1187548\n",
       "совокупный_статус_подтверждения_доходов_заемщиков                   1187729\n",
       "кредитный_баланс_по_возоб_счетам                                    1193971\n",
       "дата_следующей_выплаты                                              1210779\n",
       "dtype: int64"
      ]
     },
     "execution_count": 5,
     "metadata": {},
     "output_type": "execute_result"
    }
   ],
   "source": [
    "#8. В какой фиче наибольшее число пропусков?\n",
    "missing=df.isnull().sum().sort_values()\n",
    "missing"
   ]
  },
  {
   "cell_type": "code",
   "execution_count": 7,
   "id": "f8984b30",
   "metadata": {},
   "outputs": [
    {
     "data": {
      "text/plain": [
       "array(['Наличные', 'Перевод'], dtype=object)"
      ]
     },
     "execution_count": 7,
     "metadata": {},
     "output_type": "execute_result"
    }
   ],
   "source": [
    "#9. Какие значения есть у признака тип_предоставления_кредита?\n",
    "df['тип_предоставления_кредита'].unique()"
   ]
  },
  {
   "cell_type": "code",
   "execution_count": 8,
   "id": "3a7c0601",
   "metadata": {},
   "outputs": [],
   "source": [
    "#10\n",
    "from scipy.stats import ttest_ind\n",
    "group_1 = df[(df['рейтинг'] == 'Ж') & (df['итоговый_статус_займа'] == 1)]['сумма_займа']\n",
    "group_0 = df[(df['рейтинг'] == 'Ж') & (df['итоговый_статус_займа'] == 0)]['сумма_займа']"
   ]
  },
  {
   "cell_type": "code",
   "execution_count": 9,
   "id": "9c5edd95",
   "metadata": {},
   "outputs": [
    {
     "name": "stdout",
     "output_type": "stream",
     "text": [
      "p-значение для группы 1 (нормальность): 0.000\n",
      "p-значение для группы 0 (нормальность): 0.000\n"
     ]
    }
   ],
   "source": [
    "from scipy.stats import shapiro\n",
    "\n",
    "_, p1 = shapiro(group_1)\n",
    "_, p0 = shapiro(group_0)\n",
    "\n",
    "print(f\"p-значение для группы 1 (нормальность): {p1:.3f}\")\n",
    "print(f\"p-значение для группы 0 (нормальность): {p0:.3f}\")"
   ]
  },
  {
   "cell_type": "code",
   "execution_count": 10,
   "id": "fd57f1f7",
   "metadata": {},
   "outputs": [
    {
     "name": "stdout",
     "output_type": "stream",
     "text": [
      "p-значение теста Левена: 0.005\n"
     ]
    }
   ],
   "source": [
    "from scipy.stats import levene\n",
    "\n",
    "_, p_levene = levene(group_1, group_0)\n",
    "print(f\"p-значение теста Левена: {p_levene:.3f}\")"
   ]
  },
  {
   "cell_type": "code",
   "execution_count": 15,
   "id": "4d722eda",
   "metadata": {},
   "outputs": [
    {
     "data": {
      "text/plain": [
       "(4118,)"
      ]
     },
     "execution_count": 15,
     "metadata": {},
     "output_type": "execute_result"
    }
   ],
   "source": [
    "group_0.shape\n"
   ]
  },
  {
   "cell_type": "code",
   "execution_count": 16,
   "id": "92d67d5d",
   "metadata": {},
   "outputs": [
    {
     "data": {
      "text/plain": [
       "(4074,)"
      ]
     },
     "execution_count": 16,
     "metadata": {},
     "output_type": "execute_result"
    }
   ],
   "source": [
    "group_1.shape"
   ]
  },
  {
   "cell_type": "code",
   "execution_count": 11,
   "id": "60911819",
   "metadata": {},
   "outputs": [
    {
     "name": "stdout",
     "output_type": "stream",
     "text": [
      "t-статистика: -0.974\n",
      "p-значение: 0.330\n"
     ]
    }
   ],
   "source": [
    "t_stat, p_value = ttest_ind(group_1, group_0, equal_var=False)\n",
    "print(f\"t-статистика: {t_stat:.3f}\")\n",
    "print(f\"p-значение: {p_value:.3f}\")"
   ]
  },
  {
   "cell_type": "code",
   "execution_count": null,
   "id": "64b2978c",
   "metadata": {},
   "outputs": [],
   "source": [
    "#Не отвергаем нулевую гипотезу о равенстве средних сумм займа между группами (p = 0.33 > 0.05). Статистически значимых различий не обнаружено."
   ]
  },
  {
   "cell_type": "code",
   "execution_count": null,
   "id": "e7895d47",
   "metadata": {},
   "outputs": [],
   "source": [
    "#11. Какой код построит boxplot для сравнения годового_дохода по статусу займа?\n",
    "sns.boxplot(x='итоговый_статус_займа', y='годовой_доход', data=df)\n",
    "#df.groupby('итоговый_статус_займа')['годовой_доход'].boxplot() технически подходит но не сравнивает"
   ]
  },
  {
   "cell_type": "code",
   "execution_count": null,
   "id": "5d26670c",
   "metadata": {},
   "outputs": [],
   "source": [
    "#12. Какой из следующих сценариев возможен для бинарной классификации, если ROC AUC = 0.65, но при этом accuracy модели на тестовой выборке составляет 0.95?\n",
    "#Сильный дисбаланс классов.\n"
   ]
  },
  {
   "cell_type": "code",
   "execution_count": null,
   "id": "0700628f",
   "metadata": {},
   "outputs": [],
   "source": [
    "#13. Вы тестируете несколько моделей бинарной классификации. Значение ROC AUC какой модели указывает на наилучшее качество предсказаний\n",
    "#0.9"
   ]
  },
  {
   "cell_type": "code",
   "execution_count": null,
   "id": "79cdec3f",
   "metadata": {},
   "outputs": [
    {
     "data": {
      "text/plain": [
       "<Axes: xlabel='рейтинг', ylabel='сумма_займа_стандарт'>"
      ]
     },
     "execution_count": 19,
     "metadata": {},
     "output_type": "execute_result"
    },
    {
     "data": {
      "image/png": "[encoded data removed]",
      "text/plain": [
       "<Figure size 640x480 with 1 Axes>"
      ]
     },
     "metadata": {},
     "output_type": "display_data"
    }
   ],
   "source": [
    "sns.boxplot(x='рейтинг', y='сумма_займа', data=df)"
   ]
  }
 ],
 "metadata": {
  "kernelspec": {
   "display_name": "base",
   "language": "python",
   "name": "python3"
  },
  "language_info": {
   "codemirror_mode": {
    "name": "ipython",
    "version": 3
   },
   "file_extension": ".py",
   "mimetype": "text/x-python",
   "name": "python",
   "nbconvert_exporter": "python",
   "pygments_lexer": "ipython3",
   "version": "3.12.7"
  }
 },
 "nbformat": 4,
 "nbformat_minor": 5
}
